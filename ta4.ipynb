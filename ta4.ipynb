{
 "cells": [
  {
   "cell_type": "markdown",
   "id": "1087eeaf-1fef-4827-bbcc-366da9e1e780",
   "metadata": {},
   "source": [
    "# TA4 - Análise e classificação do Iris Dataset"
   ]
  },
  {
   "cell_type": "markdown",
   "id": "63d10d4c-801a-40e7-858d-cda5ee12b9ff",
   "metadata": {},
   "source": [
    "## Tarefas:\n",
    "* Cálculo da média, mediana, moda e desvio de cada variável em geral\n",
    "* Cálculo da média, mediana, moda e desvio de cada variável por categoria\n",
    "* Análise da relação entre o comprimento e largura da sépala entre as categorias\n",
    "* Análise da relação entre o comprimento e largura da pétalas entre as categorias\n",
    "* Análise da distribuição das categorias nas 4 dimensões (comprimento e largura das sépalas e pétalas)\n",
    "* Treinamento do dataset usando K-NN e analisar os resultados"
   ]
  },
  {
   "cell_type": "markdown",
   "id": "77a0e2d5-3b0d-47a3-9a2d-388d24f8e0a2",
   "metadata": {
    "tags": []
   },
   "source": [
    "## Import de bibliotecas"
   ]
  },
  {
   "cell_type": "code",
   "execution_count": 18,
   "id": "739074f6-400e-4441-bc17-b8c7e22290b4",
   "metadata": {
    "tags": []
   },
   "outputs": [],
   "source": [
    "from sklearn.datasets import load_iris\n",
    "from sklearn import tree\n",
    "from sklearn.metrics import accuracy_score\n",
    "import numpy as np\n",
    "import pandas as pd"
   ]
  },
  {
   "cell_type": "markdown",
   "id": "a399411e-a14e-4655-ae9b-0f4fd37cb622",
   "metadata": {},
   "source": [
    "## Carregar Dataset"
   ]
  },
  {
   "cell_type": "code",
   "execution_count": 34,
   "id": "db47be10-9f4e-444d-ba44-74dee3a56324",
   "metadata": {
    "tags": []
   },
   "outputs": [
    {
     "ename": "NameError",
     "evalue": "name 'target_names' is not defined",
     "output_type": "error",
     "traceback": [
      "\u001b[0;31m---------------------------------------------------------------------------\u001b[0m",
      "\u001b[0;31mNameError\u001b[0m                                 Traceback (most recent call last)",
      "Cell \u001b[0;32mIn[34], line 3\u001b[0m\n\u001b[1;32m      1\u001b[0m iris \u001b[38;5;241m=\u001b[39m load_iris()\n\u001b[1;32m      2\u001b[0m df \u001b[38;5;241m=\u001b[39m pd\u001b[38;5;241m.\u001b[39mDataFrame(data\u001b[38;5;241m=\u001b[39miris\u001b[38;5;241m.\u001b[39mdata, columns\u001b[38;5;241m=\u001b[39miris\u001b[38;5;241m.\u001b[39mfeature_names)\n\u001b[0;32m----> 3\u001b[0m \u001b[38;5;28;01mfor\u001b[39;00m count, target \u001b[38;5;129;01min\u001b[39;00m \u001b[38;5;28menumerate\u001b[39m(\u001b[43mtarget_names\u001b[49m):\n\u001b[1;32m      4\u001b[0m     \u001b[38;5;28mprint\u001b[39m(f\u001b[38;5;124m'\u001b[39m\u001b[38;5;124mClasse: \u001b[39m\u001b[38;5;132;01m{target}\u001b[39;00m\u001b[38;5;124m'\u001b[39m)\n\u001b[1;32m      5\u001b[0m     \u001b[38;5;28mprint\u001b[39m(df[count\u001b[38;5;241m*\u001b[39m\u001b[38;5;241m50\u001b[39m:(count\u001b[38;5;241m+\u001b[39m\u001b[38;5;241m1\u001b[39m)\u001b[38;5;241m*\u001b[39m\u001b[38;5;241m50\u001b[39m]\u001b[38;5;241m.\u001b[39mmean())\n",
      "\u001b[0;31mNameError\u001b[0m: name 'target_names' is not defined"
     ]
    }
   ],
   "source": [
    "iris = load_iris()\n",
    "df = pd.DataFrame(data=iris.data, columns=iris.feature_names)\n",
    "for count, target in enumerate(target_names):\n",
    "    print(f'Classe: {target}')\n",
    "    print(df[count*50:(count+1)*50].mean())"
   ]
  }
 ],
 "metadata": {
  "kernelspec": {
   "display_name": "Python 3 (ipykernel)",
   "language": "python",
   "name": "python3"
  },
  "language_info": {
   "codemirror_mode": {
    "name": "ipython",
    "version": 3
   },
   "file_extension": ".py",
   "mimetype": "text/x-python",
   "name": "python",
   "nbconvert_exporter": "python",
   "pygments_lexer": "ipython3",
   "version": "3.10.6"
  }
 },
 "nbformat": 4,
 "nbformat_minor": 5
}
