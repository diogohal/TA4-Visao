{
 "cells": [
  {
   "cell_type": "markdown",
   "id": "1087eeaf-1fef-4827-bbcc-366da9e1e780",
   "metadata": {},
   "source": [
    "# TA4 - Análise e classificação do Iris Dataset"
   ]
  },
  {
   "cell_type": "markdown",
   "id": "63d10d4c-801a-40e7-858d-cda5ee12b9ff",
   "metadata": {},
   "source": [
    "## Tarefas:\n",
    "* Cálculo da média, mediana, moda e desvio de cada variável em geral\n",
    "* Cálculo da média, mediana, moda e desvio de cada variável por categoria\n",
    "* Análise da relação entre o comprimento e largura da sépala entre as categorias\n",
    "* Análise da relação entre o comprimento e largura da pétalas entre as categorias\n",
    "* Análise da distribuição das categorias nas 4 dimensões (comprimento e largura das sépalas e pétalas)\n",
    "* Treinamento do dataset usando K-NN e analisar os resultados"
   ]
  },
  {
   "cell_type": "markdown",
   "id": "77a0e2d5-3b0d-47a3-9a2d-388d24f8e0a2",
   "metadata": {
    "tags": []
   },
   "source": [
    "## Import de bibliotecas"
   ]
  },
  {
   "cell_type": "code",
   "execution_count": 56,
   "id": "739074f6-400e-4441-bc17-b8c7e22290b4",
   "metadata": {
    "tags": []
   },
   "outputs": [],
   "source": [
    "from sklearn.datasets import load_iris\n",
    "from sklearn import tree\n",
    "from sklearn.metrics import accuracy_score\n",
    "import numpy as np\n",
    "import pandas as pd"
   ]
  },
  {
   "cell_type": "markdown",
   "id": "a399411e-a14e-4655-ae9b-0f4fd37cb622",
   "metadata": {},
   "source": [
    "## Carregar Dataset"
   ]
  },
  {
   "cell_type": "code",
   "execution_count": 58,
   "id": "db47be10-9f4e-444d-ba44-74dee3a56324",
   "metadata": {
    "tags": []
   },
   "outputs": [],
   "source": [
    "iris = load_iris()\n",
    "df = pd.DataFrame(data=iris.data, columns=iris.feature_names)"
   ]
  },
  {
   "cell_type": "markdown",
   "id": "13d7b2fc-bc33-40fe-bcf2-224d8bf28216",
   "metadata": {},
   "source": [
    "## Estatística dos dados"
   ]
  },
  {
   "cell_type": "markdown",
   "id": "c6689490-e95b-4714-8af6-e859d7ea9c82",
   "metadata": {},
   "source": [
    "### Média, moda e desvio padrão geral"
   ]
  },
  {
   "cell_type": "code",
   "execution_count": 59,
   "id": "7b095c89-46b7-424a-84f9-9e89053413b4",
   "metadata": {
    "tags": []
   },
   "outputs": [
    {
     "name": "stdout",
     "output_type": "stream",
     "text": [
      "----- MÉDIA -----\n",
      "sepal length (cm)    5.843333\n",
      "sepal width (cm)     3.057333\n",
      "petal length (cm)    3.758000\n",
      "petal width (cm)     1.199333\n",
      "dtype: float64\n",
      "\n",
      "----- MODA -----\n",
      "   sepal length (cm)  sepal width (cm)  petal length (cm)  petal width (cm)\n",
      "0                5.0               3.0                1.4               0.2\n",
      "1                NaN               NaN                1.5               NaN\n",
      "\n",
      "----- DESVIO PADRÃO -----\n",
      "sepal length (cm)    0.828066\n",
      "sepal width (cm)     0.435866\n",
      "petal length (cm)    1.765298\n",
      "petal width (cm)     0.762238\n",
      "dtype: float64\n"
     ]
    }
   ],
   "source": [
    "print('----- MÉDIA -----')\n",
    "print(df.mean())\n",
    "\n",
    "print('\\n----- MODA -----')\n",
    "print(df.mode())\n",
    "\n",
    "print('\\n----- DESVIO PADRÃO -----')\n",
    "print(df.std())"
   ]
  },
  {
   "cell_type": "markdown",
   "id": "c9c222e1-2b5a-4c51-bcdc-10ac2798b080",
   "metadata": {},
   "source": [
    "### Média, moda e desvio padrão por categoria"
   ]
  },
  {
   "cell_type": "code",
   "execution_count": 60,
   "id": "73185526-518d-4442-9798-0d5479bf930b",
   "metadata": {
    "tags": []
   },
   "outputs": [
    {
     "name": "stdout",
     "output_type": "stream",
     "text": [
      "CLASSE: setosa\n",
      "----- MÉDIA -----\n",
      "sepal length (cm)    5.006\n",
      "sepal width (cm)     3.428\n",
      "petal length (cm)    1.462\n",
      "petal width (cm)     0.246\n",
      "dtype: float64\n",
      "\n",
      "----- MODA -----\n",
      "   sepal length (cm)  sepal width (cm)  petal length (cm)  petal width (cm)\n",
      "0                5.0               3.4                1.4               0.2\n",
      "1                5.1               NaN                1.5               NaN\n",
      "\n",
      "----- DESVIO PADRÃO -----\n",
      "sepal length (cm)    0.352490\n",
      "sepal width (cm)     0.379064\n",
      "petal length (cm)    0.173664\n",
      "petal width (cm)     0.105386\n",
      "dtype: float64\n",
      "-----------------------------------------------------------------------------------\n",
      "CLASSE: versicolor\n",
      "----- MÉDIA -----\n",
      "sepal length (cm)    5.936\n",
      "sepal width (cm)     2.770\n",
      "petal length (cm)    4.260\n",
      "petal width (cm)     1.326\n",
      "dtype: float64\n",
      "\n",
      "----- MODA -----\n",
      "   sepal length (cm)  sepal width (cm)  petal length (cm)  petal width (cm)\n",
      "0                5.5               3.0                4.5               1.3\n",
      "1                5.6               NaN                NaN               NaN\n",
      "2                5.7               NaN                NaN               NaN\n",
      "\n",
      "----- DESVIO PADRÃO -----\n",
      "sepal length (cm)    0.516171\n",
      "sepal width (cm)     0.313798\n",
      "petal length (cm)    0.469911\n",
      "petal width (cm)     0.197753\n",
      "dtype: float64\n",
      "-----------------------------------------------------------------------------------\n",
      "CLASSE: virginica\n",
      "----- MÉDIA -----\n",
      "sepal length (cm)    6.588\n",
      "sepal width (cm)     2.974\n",
      "petal length (cm)    5.552\n",
      "petal width (cm)     2.026\n",
      "dtype: float64\n",
      "\n",
      "----- MODA -----\n",
      "   sepal length (cm)  sepal width (cm)  petal length (cm)  petal width (cm)\n",
      "0                6.3               3.0                5.1               1.8\n",
      "\n",
      "----- DESVIO PADRÃO -----\n",
      "sepal length (cm)    0.635880\n",
      "sepal width (cm)     0.322497\n",
      "petal length (cm)    0.551895\n",
      "petal width (cm)     0.274650\n",
      "dtype: float64\n",
      "-----------------------------------------------------------------------------------\n"
     ]
    }
   ],
   "source": [
    "for count, target in enumerate(iris.target_names):\n",
    "    print(f'CLASSE: {target}')\n",
    "    print('----- MÉDIA -----')\n",
    "    print(df[50*count:50*(count+1)].mean())\n",
    "    print('\\n----- MODA -----')\n",
    "    print(df[50*count:50*(count+1)].mode())\n",
    "    print('\\n----- DESVIO PADRÃO -----')\n",
    "    print(f'{df[50*count:50*(count+1)].std()}')\n",
    "    print('-----------------------------------------------------------------------------------')"
   ]
  },
  {
   "cell_type": "markdown",
   "id": "81fa0831-5be6-4216-85dd-18df775b72fb",
   "metadata": {},
   "source": [
    "## Análise das estatísticas"
   ]
  },
  {
   "cell_type": "markdown",
   "id": "563c93aa-f8bb-4070-8b9b-032433c62376",
   "metadata": {},
   "source": [
    "### Sépalas"
   ]
  },
  {
   "cell_type": "markdown",
   "id": "d0b2fa24-96b5-450a-aba6-af8aa470d431",
   "metadata": {},
   "source": [
    "### Pétalas"
   ]
  },
  {
   "cell_type": "markdown",
   "id": "0d599472-fdde-45a9-bba0-6aca4797830d",
   "metadata": {},
   "source": [
    "## Distribuição nas 4 dimensões"
   ]
  },
  {
   "cell_type": "markdown",
   "id": "ec0f9cec-7e57-49b8-9c93-0feb60c725a8",
   "metadata": {},
   "source": [
    "## Treinamento para classificação"
   ]
  }
 ],
 "metadata": {
  "kernelspec": {
   "display_name": "Python 3 (ipykernel)",
   "language": "python",
   "name": "python3"
  },
  "language_info": {
   "codemirror_mode": {
    "name": "ipython",
    "version": 3
   },
   "file_extension": ".py",
   "mimetype": "text/x-python",
   "name": "python",
   "nbconvert_exporter": "python",
   "pygments_lexer": "ipython3",
   "version": "3.10.6"
  }
 },
 "nbformat": 4,
 "nbformat_minor": 5
}
