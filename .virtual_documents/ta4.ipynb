from sklearn.datasets import load_iris
from sklearn import tree
from sklearn.metrics import accuracy_score
import numpy as np
import pandas as pd


iris = load_iris()
df = pd.DataFrame(data=iris.data, columns=iris.feature_names)


print('----- MÉDIA -----')
print(df.mean())

print('\n----- MODA -----')
print(df.mode())

print('\n----- DESVIO PADRÃO -----')
print(df.std())


for count, target in enumerate(iris.target_names):
    print(f'CLASSE: {target}')
    print('----- MÉDIA -----')
    print(df[50*count:50*(count+1)].mean())
    print('\n----- MODA -----')
    print(df[50*count:50*(count+1)].mode())
    print('\n----- DESVIO PADRÃO -----')
    print(f'{df[50*count:50*(count+1)].std()}')
    print('-----------------------------------------------------------------------------------')
