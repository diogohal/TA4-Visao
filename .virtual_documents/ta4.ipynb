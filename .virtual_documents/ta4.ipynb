from sklearn.datasets import load_iris
from sklearn import tree
from sklearn.metrics import accuracy_score
from sklearn.model_selection import train_test_split
from matplotlib import pyplot as plt
import numpy as np
import seaborn as sns
import pandas as pd


iris = load_iris()
df = pd.DataFrame(data=iris.data, columns=iris.feature_names)
df['target'] = iris['target']
df['target_name'] = df['target'].map({0:'setosa', 1:'versicolor', 2:'virginica'})


print(df_category.iloc[:,:4].describe()[:3])


for count, target in enumerate(iris.target_names):
    print(f'CLASSE: {target}')
    df_category = df[50*count:50*(count+1)]
    print(df_category.iloc[:,:4].describe()[1:3])
    print('----------------------------------------------------------------')



col = ['sepal length (cm)', 'sepal width (cm)']
sns.relplot(x=col[0], y="target", hue="target_name", data=df)
plt.suptitle(col[0], y=1.05)
sns.relplot(x=col[1], y="target", hue="target_name", data=df)
plt.suptitle(col[1], y=1.05)
plt.show()


col = ['petal length (cm)', 'petal width (cm)']
sns.relplot(x=col[0], y="target", hue="target_name", data=df)
plt.suptitle(col[0], y=1.05)
sns.relplot(x=col[1], y="target", hue="target_name", data=df)
plt.suptitle(col[1], y=1.05)
plt.show()


sns.pairplot(df, hue='target_name')


df_train, df_test = train_test_split(df, test_size=0.2)
df_train.head()



